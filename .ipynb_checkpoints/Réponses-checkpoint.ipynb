{
 "cells": [
  {
   "cell_type": "code",
   "execution_count": 13,
   "metadata": {
    "collapsed": true
   },
   "outputs": [],
   "source": [
    "# >>> Attention il s'agit ici des réponses, ne pas les dévoiler avant d'avoir cherché par soi-même !\n",
    "import answers as o"
   ]
  },
  {
   "cell_type": "code",
   "execution_count": 14,
   "metadata": {
    "collapsed": true
   },
   "outputs": [
    {
     "name": "stdout",
     "output_type": "stream",
     "text": [
      "print(data)\n"
     ]
    }
   ],
   "source": [
    "# 1.>\n",
    "# Le but ici est d'afficher et de comprendre ce qu'a renvoyé la fonction \"loadArfffile\"\n",
    "print(o.reponse_1)\n",
    "# > Réponse 1 :"
   ]
  },
  {
   "cell_type": "code",
   "execution_count": 15,
   "metadata": {
    "collapsed": true
   },
   "outputs": [
    {
     "name": "stdout",
     "output_type": "stream",
     "text": [
      "A déterminer la couleur des points\n"
     ]
    }
   ],
   "source": [
    "# A quoi sert le paramètre \"color\" ?\n",
    "print(o.reponse_2_1)\n",
    "# > Réponse 2.1 :"
   ]
  },
  {
   "cell_type": "code",
   "execution_count": 16,
   "metadata": {
    "collapsed": true
   },
   "outputs": [
    {
     "name": "stdout",
     "output_type": "stream",
     "text": [
      "A déterminer l'échelle des points\n"
     ]
    }
   ],
   "source": [
    "# A quoi sert le paramètre \"s\" ?\n",
    "print(o.reponse_2_2)\n",
    "# > Réponse 2.2 :"
   ]
  },
  {
   "cell_type": "code",
   "execution_count": 17,
   "metadata": {
    "collapsed": true
   },
   "outputs": [
    {
     "name": "stdout",
     "output_type": "stream",
     "text": [
      "A déterminer la transparence des points\n"
     ]
    }
   ],
   "source": [
    "# A quoi sert le paramètre \"alpha\" ?\n",
    "print(o.reponse_2_3)\n",
    "# > Réponse 2.3 :"
   ]
  },
  {
   "cell_type": "code",
   "execution_count": 18,
   "metadata": {
    "collapsed": true
   },
   "outputs": [
    {
     "name": "stdout",
     "output_type": "stream",
     "text": [
      "A déterminer la couleur des contours des points\n"
     ]
    }
   ],
   "source": [
    "# A quoi sert le paramètre \"edgecolors\" ?\n",
    "print(o.reponse_2_4)\n",
    "# > Réponse 2.4 :"
   ]
  },
  {
   "cell_type": "code",
   "execution_count": 19,
   "metadata": {
    "collapsed": true
   },
   "outputs": [
    {
     "name": "stdout",
     "output_type": "stream",
     "text": [
      "A ajouter le titre 'Mon 1er graphe avec python'\n"
     ]
    }
   ],
   "source": [
    "# A quoi sert la ligne \"ax.set_title('Mon 1er graphe avec python')\" ?\n",
    "print(o.reponse_2_5)\n",
    "# > Réponse 2.5 :"
   ]
  },
  {
   "cell_type": "code",
   "execution_count": 20,
   "metadata": {
    "collapsed": true
   },
   "outputs": [
    {
     "name": "stdout",
     "output_type": "stream",
     "text": [
      "A afficher la grille de fond\n"
     ]
    }
   ],
   "source": [
    "# A quoi sert la ligne \"ax.grid(True)\" ?\n",
    "print(o.reponse_2_6)\n",
    "# > Réponse 2.6 :"
   ]
  },
  {
   "cell_type": "code",
   "execution_count": 21,
   "metadata": {
    "collapsed": true
   },
   "outputs": [
    {
     "name": "stdout",
     "output_type": "stream",
     "text": [
      "'nb_clusters' représente le nombre de clusters\n",
      "'init_means' représente les coordonées des centres initiaux\n",
      "Les paramètres les plus adaptés sont 2 et [[1,1],[1,3],[3,2]]\n"
     ]
    }
   ],
   "source": [
    "# A quoi servent ces 2 lignes selon vous ? Comment vérifier vos hypothèses ?\n",
    "print(o.reponse_3)\n",
    "# > Réponse 3 :"
   ]
  },
  {
   "cell_type": "code",
   "execution_count": 22,
   "metadata": {
    "collapsed": true
   },
   "outputs": [
    {
     "name": "stdout",
     "output_type": "stream",
     "text": [
      "'init' représente les centres initiaux\n",
      "'n_clusters' le nombre de clusters utilisés\n",
      "'n_init' le nombre d'initialisations essayées\n"
     ]
    }
   ],
   "source": [
    "# A quoi servent les différents paramètres selon vous ? Comment vérifier vos hypothèses ?\n",
    "print(o.reponse_4)\n",
    "# > Réponse 4 :"
   ]
  },
  {
   "cell_type": "code",
   "execution_count": 23,
   "metadata": {
    "collapsed": true
   },
   "outputs": [
    {
     "name": "stdout",
     "output_type": "stream",
     "text": [
      "Ce sont des codes héxadécimaux codant les différentes couleurs utilisées pour le graphe.\n"
     ]
    }
   ],
   "source": [
    "# Que veulent dire ces codes avec des # selon vous ? Comment vérifier votre hypothèse ?\n",
    "print(o.reponse_5)\n",
    "# > Réponse 5 :"
   ]
  },
  {
   "cell_type": "code",
   "execution_count": 24,
   "metadata": {
    "collapsed": true
   },
   "outputs": [
    {
     "name": "stdout",
     "output_type": "stream",
     "text": [
      "'k_means_cluster_centers' représente les coordonnées des centres des clusters\n",
      "'k_means_labels' représente l'appartenance des points à l'un des clusters\n",
      "Pour le voir utilisez 'print' bien sûr ! ('print(k_means_cluster_centers)' et 'print(k_means_labels)')\n"
     ]
    }
   ],
   "source": [
    "# Que représentent \"k_means_cluster_centers\" et \"k_means_labels\" selon vous ? Comment vérifier votre hypothèse ?\n",
    "print(o.reponse_6)\n",
    "# > Réponse 6 :"
   ]
  },
  {
   "cell_type": "code",
   "execution_count": 25,
   "metadata": {
    "collapsed": true
   },
   "outputs": [
    {
     "name": "stdout",
     "output_type": "stream",
     "text": [
      "Il permet de coder si le point est dans le cluster k ou non\n"
     ]
    }
   ],
   "source": [
    "# Quel est la signification de \"my_members\" ?\n",
    "print(o.reponse_7)\n",
    "# > Réponse 7 :"
   ]
  },
  {
   "cell_type": "code",
   "execution_count": 26,
   "metadata": {
    "collapsed": true
   },
   "outputs": [
    {
     "name": "stdout",
     "output_type": "stream",
     "text": [
      "A ajouter le titre 'Clusters via k-means'\n"
     ]
    }
   ],
   "source": [
    "# Maintenant que vous êtes des pros vous le savez : à quoi sert la ligne suivante ?\n",
    "print(o.reponse_8)\n",
    "# > Réponse 8 :"
   ]
  }
 ],
 "metadata": {
  "kernelspec": {
   "display_name": "Python 3",
   "language": "python",
   "name": "python3"
  },
  "language_info": {
   "codemirror_mode": {
    "name": "ipython",
    "version": 3
   },
   "file_extension": ".py",
   "mimetype": "text/x-python",
   "name": "python",
   "nbconvert_exporter": "python",
   "pygments_lexer": "ipython3",
   "version": "3.6.1"
  }
 },
 "nbformat": 4,
 "nbformat_minor": 2
}
