{
 "cells": [
  {
   "cell_type": "code",
   "execution_count": null,
   "metadata": {
    "collapsed": true
   },
   "outputs": [],
   "source": [
    "# >>> Légende\n",
    "# \"##\" : \"pas besoin de comprendre les détails\"\n",
    "# \"#\"   : \"posez la question si vous ne comprenez pas !\"\n",
    "\n",
    "# >>> Les réponses aux questions sont dans la feuille \"Réponses\", à ne pas réveler avant d'avoir cherché par soi-même !"
   ]
  },
  {
   "cell_type": "code",
   "execution_count": null,
   "metadata": {
    "collapsed": true
   },
   "outputs": [],
   "source": [
    "## Tous les imports nécessaires\n",
    "import numpy as np\n",
    "import matplotlib.pyplot as plt\n",
    "from sklearn.cluster import MiniBatchKMeans, KMeans\n",
    "from sklearn.metrics.pairwise import pairwise_distances_argmin"
   ]
  },
  {
   "cell_type": "code",
   "execution_count": null,
   "metadata": {
    "collapsed": true
   },
   "outputs": [],
   "source": [
    "## Fonction permettant de recueillir les données dans \"points.arff\"\n",
    "def loadArfffile():\n",
    "    f=open(\"points.arff\",'r')\n",
    "    for i in range(0,7):\n",
    "        f.readline()\n",
    "    data=[]    \n",
    "    b=f.readline()\n",
    "    while b!=\"\":\n",
    "        a = b[:-1].split(',')\n",
    "        a[0]=float(a[0])\n",
    "        a[1]=float(a[1])\n",
    "        data = data + [a]\n",
    "        b=f.readline()\n",
    "    f.close()\n",
    "    return np.array(data)\n",
    "\n",
    "# Stockage des données dans \"data\"\n",
    "data = loadArfffile()"
   ]
  },
  {
   "cell_type": "code",
   "execution_count": null,
   "metadata": {
    "collapsed": true
   },
   "outputs": [],
   "source": [
    "# Que fait la fonction \"Arfffile\" ?\n",
    "#\n",
    "#                           +----------------+\n",
    "#  Le fichier               |                |             La sortie de la fonction\n",
    "#  \"points.arfff\"   ----->  |  loadArfffile  |  ------->   (sous quelle forme ?)\n",
    "#  (par exemple)            |                |             A vous de le découvrir !\n",
    "#                           +----------------+\n",
    "#"
   ]
  },
  {
   "cell_type": "code",
   "execution_count": null,
   "metadata": {
    "collapsed": true
   },
   "outputs": [],
   "source": [
    "# 1.> A vous de jouer !\n",
    "# Le but ici est d'afficher et de comprendre ce qu'a renvoyé la fonction \"loadArfffile\"\n",
    "# Indice : utiliser la fonction \"print\" permet d'afficher des données\n",
    "# Syntaxe : \"print(quelquechose)\" va afficher les données contenues dans \"quelquechose\"\n",
    "# Votre code ici :\n"
   ]
  },
  {
   "cell_type": "code",
   "execution_count": null,
   "metadata": {
    "collapsed": true
   },
   "outputs": [],
   "source": [
    "# Problème : Ce n'est pas très lisible ni pratique par un humain !\n",
    "# Idée : Afficher les données dans un graphe."
   ]
  },
  {
   "cell_type": "code",
   "execution_count": null,
   "metadata": {
    "collapsed": true
   },
   "outputs": [],
   "source": [
    "## Création du graphe\n",
    "fig, ax = plt.subplots()\n",
    "for x, y in data:\n",
    "    ax.scatter(x, y, color='green', s=50, alpha=0.2, edgecolors='blue')\n",
    "ax.set_title('Mon 1er graphe avec python')\n",
    "ax.grid(True)\n",
    "plt.show()\n",
    "\n",
    "# 2.> A vous de jouer !\n",
    "# Indice : Pour répondre à ces 6 questions, changez le code, testez, itérez !\n",
    "\n",
    "# 2.1> A quoi sert le paramètre \"color\" ?\n",
    "# Votre réponse ici :\n",
    "# \n",
    "\n",
    "# 2.2> A quoi sert le paramètre \"s\" ?\n",
    "# Votre réponse ici :\n",
    "# \n",
    "\n",
    "# 2.3> A quoi sert le paramètre \"alpha\" ?\n",
    "# Votre réponse ici :\n",
    "# \n",
    "\n",
    "# 2.4> A quoi sert le paramètre \"edgecolors\" ?\n",
    "# Votre réponse ici :\n",
    "# \n",
    "\n",
    "# 2.5> A quoi sert la ligne \"ax.set_title('Mon 1er graphe avec python')\" ?\n",
    "# Votre réponse ici :\n",
    "# \n",
    "\n",
    "# 2.6> A quoi sert la ligne \"ax.grid(True)\" ?\n",
    "# Votre réponse ici :\n",
    "# "
   ]
  },
  {
   "cell_type": "code",
   "execution_count": null,
   "metadata": {
    "collapsed": true
   },
   "outputs": [],
   "source": [
    "# Observation : On observe 3 \"tas de points\".\n",
    "# Problème : L'ordinateur ne sait pas que ces 3 groupes existent.\n",
    "# Objectif : L'aider à créer des groupes, des \"clusters\" de points pour pouvoir ensuite les traiter."
   ]
  },
  {
   "cell_type": "code",
   "execution_count": null,
   "metadata": {
    "collapsed": true
   },
   "outputs": [],
   "source": [
    "# 3.> A vous de jouer !\n",
    "# A quoi servent ces 2 lignes selon vous ? Comment vérifier vos hypothèses ?\n",
    "# Quels sont les paramètres les mieux adaptés ?\n",
    "# Votre réponse ici :\n",
    "# \n",
    "nb_clusters = 7\n",
    "init_means = np.array([[1,1],[1,3],[3,2],[3,2]])\n",
    "\n",
    "# 4.> A vous de jouer !\n",
    "# A quoi servent les différents paramètres selon vous ? Comment vérifier vos hypothèses ?\n",
    "# Votre réponse ici :\n",
    "# \n",
    "k_means = KMeans(init='k-means++', n_clusters=nb_clusters, n_init=10)\n",
    "k_means.fit(data)\n",
    "\n",
    "## Mise en place du graphe\n",
    "fig, ax = plt.subplots()\n",
    "\n",
    "# 5.> A vous de jouer !\n",
    "# Que veulent dire ces codes avec des # selon vous ? Comment vérifier votre hypothèse ?\n",
    "# Votre réponse ici :\n",
    "# \n",
    "colors = ['#4EACC5', '#FF9C34', '#4E9A06', 'black', 'cyan', 'red', 'yellow']\n",
    "\n",
    "# 6.> A vous de jouer !\n",
    "# Que représentent \"k_means_cluster_centers\" et \"k_means_labels\" selon vous ? Comment vérifier votre hypothèse ?\n",
    "# Votre réponse ici :\n",
    "# \n",
    "k_means_cluster_centers = np.sort(k_means.cluster_centers_, axis=0)\n",
    "k_means_labels = pairwise_distances_argmin(data, k_means_cluster_centers)\n",
    "\n",
    "## Affichage du graphe adapté\n",
    "for k, col in zip(range(nb_clusters), colors):\n",
    "    # 7.> A vous de jouer !\n",
    "    # Quel est la signification de \"my_members\" ?\n",
    "    # Indice : \"==\" permet de tester si les 2 membres sont égaux ou non (True ou False)\n",
    "    # Votre réponse ici :\n",
    "    # \n",
    "    my_members = k_means_labels == k\n",
    "    cluster_center = k_means_cluster_centers[k]\n",
    "    ## Affichage des clusters\n",
    "    ax.plot(data[my_members, 0], data[my_members, 1], 'w', markerfacecolor=col, marker='.')\n",
    "\n",
    "# 8.> A vous de jouer !\n",
    "# Maintenant que vous êtes des pros vous le savez : à quoi sert la ligne suivante ?\n",
    "# Votre réponse ici :\n",
    "# \n",
    "ax.set_title('Clusters via k-means')\n",
    "\n",
    "\n",
    "plt.show()"
   ]
  }
 ],
 "metadata": {
  "kernelspec": {
   "display_name": "Python 3",
   "language": "python",
   "name": "python3"
  },
  "language_info": {
   "codemirror_mode": {
    "name": "ipython",
    "version": 3
   },
   "file_extension": ".py",
   "mimetype": "text/x-python",
   "name": "python",
   "nbconvert_exporter": "python",
   "pygments_lexer": "ipython3",
   "version": "3.6.1"
  }
 },
 "nbformat": 4,
 "nbformat_minor": 2
}
